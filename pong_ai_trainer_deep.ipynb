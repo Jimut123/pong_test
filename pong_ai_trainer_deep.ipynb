{
  "nbformat": 4,
  "nbformat_minor": 0,
  "metadata": {
    "colab": {
      "name": "pong_ai_trainer_deep.ipynb",
      "version": "0.3.2",
      "provenance": []
    },
    "kernelspec": {
      "name": "python3",
      "display_name": "Python 3"
    },
    "accelerator": "GPU"
  },
  "cells": [
    {
      "metadata": {
        "id": "-EOTG-lm39Oq",
        "colab_type": "code",
        "colab": {
          "base_uri": "https://localhost:8080/",
          "height": 128
        },
        "outputId": "72bf33af-6f34-4caa-a1d8-bfb524572cd0"
      },
      "cell_type": "code",
      "source": [
        "from google.colab import drive\n",
        "drive.mount('/content/drive')"
      ],
      "execution_count": 4,
      "outputs": [
        {
          "output_type": "stream",
          "text": [
            "Go to this URL in a browser: https://accounts.google.com/o/oauth2/auth?client_id=947318989803-6bn6qk8qdgf4n4g3pfee6491hc0brc4i.apps.googleusercontent.com&redirect_uri=urn%3Aietf%3Awg%3Aoauth%3A2.0%3Aoob&scope=email%20https%3A%2F%2Fwww.googleapis.com%2Fauth%2Fdocs.test%20https%3A%2F%2Fwww.googleapis.com%2Fauth%2Fdrive%20https%3A%2F%2Fwww.googleapis.com%2Fauth%2Fdrive.photos.readonly%20https%3A%2F%2Fwww.googleapis.com%2Fauth%2Fpeopleapi.readonly&response_type=code\n",
            "\n",
            "Enter your authorization code:\n",
            "··········\n",
            "Mounted at /content/drive\n"
          ],
          "name": "stdout"
        }
      ]
    },
    {
      "metadata": {
        "id": "5YfJFINW3pvy",
        "colab_type": "code",
        "colab": {}
      },
      "cell_type": "code",
      "source": [
        "import json\n",
        "import numpy as np"
      ],
      "execution_count": 0,
      "outputs": []
    },
    {
      "metadata": {
        "id": "9p2mbt6X35Ry",
        "colab_type": "code",
        "colab": {
          "base_uri": "https://localhost:8080/",
          "height": 72
        },
        "outputId": "52ed85b4-06ef-4f57-b171-a3367a359461"
      },
      "cell_type": "code",
      "source": [
        "!curl https://pythonprogramming.net/static/downloads/machine-learning-data/training_data-100k.json >> training_sent_100k.json"
      ],
      "execution_count": 3,
      "outputs": [
        {
          "output_type": "stream",
          "text": [
            "  % Total    % Received % Xferd  Average Speed   Time    Time     Time  Current\n",
            "                                 Dload  Upload   Total   Spent    Left  Speed\n",
            "100 30.9M  100 30.9M    0     0  12.3M      0  0:00:02  0:00:02 --:--:-- 12.3M\n"
          ],
          "name": "stdout"
        }
      ]
    },
    {
      "metadata": {
        "id": "G7sytXGny0Nn",
        "colab_type": "code",
        "colab": {}
      },
      "cell_type": "code",
      "source": [
        "with open('/content/drive/My Drive/training_data_bikash1.json', 'r') as f:\n",
        "    data1 = json.load(f)\n",
        "    xb = np.array(data1['xs'])\n",
        "    yb = np.array(data1['ys'])"
      ],
      "execution_count": 0,
      "outputs": []
    },
    {
      "metadata": {
        "id": "qk54bK2107Es",
        "colab_type": "code",
        "colab": {
          "base_uri": "https://localhost:8080/",
          "height": 35
        },
        "outputId": "12492258-6dbe-4ec8-b0d0-a725a2bc1976"
      },
      "cell_type": "code",
      "source": [
        "print(len(xb))"
      ],
      "execution_count": 24,
      "outputs": [
        {
          "output_type": "stream",
          "text": [
            "12000\n"
          ],
          "name": "stdout"
        }
      ]
    },
    {
      "metadata": {
        "id": "R2o1V3vU1o06",
        "colab_type": "code",
        "colab": {}
      },
      "cell_type": "code",
      "source": [
        "with open('/content/training_sent_100k.json', 'r') as f:\n",
        "    data = json.load(f)\n",
        "    xs = np.array(data['xs'])\n",
        "    ys = np.array(data['ys'])"
      ],
      "execution_count": 0,
      "outputs": []
    },
    {
      "metadata": {
        "id": "UhcEmfs316Hu",
        "colab_type": "code",
        "colab": {
          "base_uri": "https://localhost:8080/",
          "height": 35
        },
        "outputId": "bc345e58-234c-412d-889b-0d3799ceb4e0"
      },
      "cell_type": "code",
      "source": [
        "print(len(ys))"
      ],
      "execution_count": 22,
      "outputs": [
        {
          "output_type": "stream",
          "text": [
            "300000\n"
          ],
          "name": "stdout"
        }
      ]
    },
    {
      "metadata": {
        "id": "nUy_tNdf3tar",
        "colab_type": "code",
        "colab": {}
      },
      "cell_type": "code",
      "source": [
        "x_train = xs[:-10000]\n",
        "y_train = ys[:-10000]\n",
        "x_test = xs[-10000:]\n",
        "y_test = ys[-10000:]"
      ],
      "execution_count": 0,
      "outputs": []
    },
    {
      "metadata": {
        "id": "4h9_LAgW3yXX",
        "colab_type": "code",
        "colab": {
          "base_uri": "https://localhost:8080/",
          "height": 35
        },
        "outputId": "238dbbae-fd5c-475b-8372-5ef575845374"
      },
      "cell_type": "code",
      "source": [
        "import keras\n",
        "from keras.models import Sequential\n",
        "from keras.layers import Dense, Dropout"
      ],
      "execution_count": 27,
      "outputs": [
        {
          "output_type": "stream",
          "text": [
            "Using TensorFlow backend.\n"
          ],
          "name": "stderr"
        }
      ]
    },
    {
      "metadata": {
        "id": "gzNFZN4E30gC",
        "colab_type": "code",
        "colab": {
          "base_uri": "https://localhost:8080/",
          "height": 146
        },
        "outputId": "82eec787-7621-4deb-af49-3bfcedf80eae"
      },
      "cell_type": "code",
      "source": [
        "model = Sequential()\n",
        "model.add(Dense(64, activation='relu', input_dim=6))\n",
        "model.add(Dropout(0.5))\n",
        "model.add(Dense(64, activation='relu'))\n",
        "model.add(Dropout(0.5))\n",
        "model.add(Dense(3, activation='softmax'))"
      ],
      "execution_count": 28,
      "outputs": [
        {
          "output_type": "stream",
          "text": [
            "WARNING:tensorflow:From /usr/local/lib/python3.6/dist-packages/tensorflow/python/framework/op_def_library.py:263: colocate_with (from tensorflow.python.framework.ops) is deprecated and will be removed in a future version.\n",
            "Instructions for updating:\n",
            "Colocations handled automatically by placer.\n",
            "WARNING:tensorflow:From /usr/local/lib/python3.6/dist-packages/keras/backend/tensorflow_backend.py:3445: calling dropout (from tensorflow.python.ops.nn_ops) with keep_prob is deprecated and will be removed in a future version.\n",
            "Instructions for updating:\n",
            "Please use `rate` instead of `keep_prob`. Rate should be set to `rate = 1 - keep_prob`.\n"
          ],
          "name": "stdout"
        }
      ]
    },
    {
      "metadata": {
        "id": "eOfu_V0C36B9",
        "colab_type": "code",
        "colab": {
          "base_uri": "https://localhost:8080/",
          "height": 399
        },
        "outputId": "e6e6f60c-7544-48a7-8c13-b2c12abc1f68"
      },
      "cell_type": "code",
      "source": [
        "adam = keras.optimizers.Adam(lr=0.01)\n",
        "\n",
        "model.compile(loss='categorical_crossentropy',\n",
        "              optimizer=adam,\n",
        "              metrics=['accuracy'])\n",
        "\n",
        "history = model.fit(x_train, y_train,\n",
        "          epochs=10,\n",
        "          validation_data=(x_test, y_test),\n",
        "          shuffle=True,\n",
        "          batch_size=128)"
      ],
      "execution_count": 42,
      "outputs": [
        {
          "output_type": "stream",
          "text": [
            "Train on 290000 samples, validate on 10000 samples\n",
            "Epoch 1/10\n",
            "290000/290000 [==============================] - 8s 29us/step - loss: 0.8141 - acc: 0.5980 - val_loss: 0.9035 - val_acc: 0.3705\n",
            "Epoch 2/10\n",
            "290000/290000 [==============================] - 8s 28us/step - loss: 0.7910 - acc: 0.5867 - val_loss: 0.9743 - val_acc: 0.4237\n",
            "Epoch 3/10\n",
            "290000/290000 [==============================] - 8s 27us/step - loss: 0.7958 - acc: 0.5814 - val_loss: 0.9837 - val_acc: 0.3553\n",
            "Epoch 4/10\n",
            "290000/290000 [==============================] - 8s 27us/step - loss: 0.8413 - acc: 0.5279 - val_loss: 0.7194 - val_acc: 0.9982\n",
            "Epoch 5/10\n",
            "290000/290000 [==============================] - 8s 28us/step - loss: 0.8643 - acc: 0.5260 - val_loss: 0.8342 - val_acc: 0.6562\n",
            "Epoch 6/10\n",
            "290000/290000 [==============================] - 8s 28us/step - loss: 0.8792 - acc: 0.5199 - val_loss: 1.0399 - val_acc: 0.9519\n",
            "Epoch 7/10\n",
            "290000/290000 [==============================] - 8s 27us/step - loss: 0.8796 - acc: 0.5186 - val_loss: 0.9324 - val_acc: 0.9240\n",
            "Epoch 8/10\n",
            "290000/290000 [==============================] - 8s 29us/step - loss: 0.8745 - acc: 0.5274 - val_loss: 0.8482 - val_acc: 0.9984\n",
            "Epoch 9/10\n",
            "290000/290000 [==============================] - 9s 31us/step - loss: 0.8496 - acc: 0.5479 - val_loss: 0.9204 - val_acc: 0.9922\n",
            "Epoch 10/10\n",
            "290000/290000 [==============================] - 8s 27us/step - loss: 0.8334 - acc: 0.5689 - val_loss: 0.8045 - val_acc: 0.9977\n"
          ],
          "name": "stdout"
        }
      ]
    },
    {
      "metadata": {
        "id": "IX0gpgwM4aN7",
        "colab_type": "code",
        "colab": {
          "base_uri": "https://localhost:8080/",
          "height": 326
        },
        "outputId": "ed4a6d74-405d-4212-8edc-2bcac47d654e"
      },
      "cell_type": "code",
      "source": [
        "model.summary()"
      ],
      "execution_count": 43,
      "outputs": [
        {
          "output_type": "stream",
          "text": [
            "_________________________________________________________________\n",
            "Layer (type)                 Output Shape              Param #   \n",
            "=================================================================\n",
            "dense_1 (Dense)              (None, 64)                448       \n",
            "_________________________________________________________________\n",
            "dropout_1 (Dropout)          (None, 64)                0         \n",
            "_________________________________________________________________\n",
            "dense_2 (Dense)              (None, 64)                4160      \n",
            "_________________________________________________________________\n",
            "dropout_2 (Dropout)          (None, 64)                0         \n",
            "_________________________________________________________________\n",
            "dense_3 (Dense)              (None, 3)                 195       \n",
            "=================================================================\n",
            "Total params: 4,803\n",
            "Trainable params: 4,803\n",
            "Non-trainable params: 0\n",
            "_________________________________________________________________\n"
          ],
          "name": "stdout"
        }
      ]
    },
    {
      "metadata": {
        "id": "yGZEzQd74f3I",
        "colab_type": "code",
        "colab": {}
      },
      "cell_type": "code",
      "source": [
        "import matplotlib.pyplot as plt"
      ],
      "execution_count": 0,
      "outputs": []
    },
    {
      "metadata": {
        "id": "QVgQNJtE4UgM",
        "colab_type": "code",
        "colab": {
          "base_uri": "https://localhost:8080/",
          "height": 295
        },
        "outputId": "2c7620b8-c315-4efe-8622-458fad90f16d"
      },
      "cell_type": "code",
      "source": [
        "plt.plot(history.history['acc'])\n",
        "plt.plot(history.history['val_acc'])\n",
        "plt.title(\"Accuracy\")\n",
        "plt.xlabel('epoch')\n",
        "plt.ylabel('accuracy')\n",
        "plt.legend(['train','test'])\n",
        "plt.show()"
      ],
      "execution_count": 45,
      "outputs": [
        {
          "output_type": "display_data",
          "data": {
            "image/png": "[encoded data removed]",
            "text/plain": [
              "<Figure size 432x288 with 1 Axes>"
            ]
          },
          "metadata": {
            "tags": []
          }
        }
      ]
    },
    {
      "metadata": {
        "id": "XXsmSafM6ozX",
        "colab_type": "code",
        "colab": {
          "base_uri": "https://localhost:8080/",
          "height": 54
        },
        "outputId": "8290913d-d84e-4ba7-9036-f8f44e0eb847"
      },
      "cell_type": "code",
      "source": [
        "score = model.evaluate(x_test, y_test, batch_size=128)\n",
        "print(score)\n",
        "model.save(\"Keras-64x2-10epoch\")"
      ],
      "execution_count": 46,
      "outputs": [
        {
          "output_type": "stream",
          "text": [
            "10000/10000 [==============================] - 0s 10us/step\n",
            "[0.8044797980308532, 0.9977]\n"
          ],
          "name": "stdout"
        }
      ]
    }
  ]
}