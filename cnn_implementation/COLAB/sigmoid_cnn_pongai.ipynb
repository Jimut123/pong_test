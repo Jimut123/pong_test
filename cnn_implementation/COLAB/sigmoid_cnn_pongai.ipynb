{
  "nbformat": 4,
  "nbformat_minor": 0,
  "metadata": {
    "colab": {
      "name": "sigmoid_cnn_pongai.ipynb",
      "version": "0.3.2",
      "provenance": [],
      "collapsed_sections": []
    },
    "kernelspec": {
      "name": "python3",
      "display_name": "Python 3"
    },
    "accelerator": "GPU"
  },
  "cells": [
    {
      "cell_type": "code",
      "metadata": {
        "id": "GqZzrO_XXAIn",
        "colab_type": "code",
        "outputId": "cff4e682-2d5e-4788-a3e5-b4ec44b16c89",
        "colab": {
          "base_uri": "https://localhost:8080/",
          "height": 34
        }
      },
      "source": [
        "from google.colab import drive\n",
        "drive.mount('/content/drive')\n",
        "\n",
        "\n",
        "# get the images https://drive.google.com/open?id=1KALHmkW8Jt0cpqz6elvtbulEG_I_GZDJ\n",
        "# get the csv 0,1 (up down) here : https://drive.google.com/open?id=1HGXKO6r6NY5nf7G9mja69NIR7NZSL9Ed"
      ],
      "execution_count": 27,
      "outputs": [
        {
          "output_type": "stream",
          "text": [
            "Drive already mounted at /content/drive; to attempt to forcibly remount, call drive.mount(\"/content/drive\", force_remount=True).\n"
          ],
          "name": "stdout"
        }
      ]
    },
    {
      "cell_type": "markdown",
      "metadata": {
        "id": "IavNO7lomzcI",
        "colab_type": "text"
      },
      "source": [
        "**I know this needs to be tweaked, just the raw data eh! and a very little training and tweaking**"
      ]
    },
    {
      "cell_type": "code",
      "metadata": {
        "id": "UTsTfChDYAf9",
        "colab_type": "code",
        "outputId": "287a5ad9-567e-4d0a-ede1-01459c122a5e",
        "colab": {
          "base_uri": "https://localhost:8080/",
          "height": 34
        }
      },
      "source": [
        "cd /"
      ],
      "execution_count": 28,
      "outputs": [
        {
          "output_type": "stream",
          "text": [
            "/\n"
          ],
          "name": "stdout"
        }
      ]
    },
    {
      "cell_type": "code",
      "metadata": {
        "id": "uafOlP-GYYk7",
        "colab_type": "code",
        "outputId": "5720497e-d7aa-4042-d3fa-605454aa2487",
        "colab": {
          "base_uri": "https://localhost:8080/",
          "height": 34
        }
      },
      "source": [
        "cd /content/drive/My\\ Drive/'Colab Notebooks'/PONG/AI"
      ],
      "execution_count": 29,
      "outputs": [
        {
          "output_type": "stream",
          "text": [
            "/content/drive/My Drive/Colab Notebooks/PONG/AI\n"
          ],
          "name": "stdout"
        }
      ]
    },
    {
      "cell_type": "code",
      "metadata": {
        "id": "VbOPJX3BYnIz",
        "colab_type": "code",
        "colab": {}
      },
      "source": [
        "import keras\n",
        "from keras.models import load_model\n",
        "from keras.models import Sequential\n",
        "from keras.layers import Dense, Dropout, Activation, Flatten\n",
        "from keras.layers import Conv2D, MaxPooling2D\n",
        "from sklearn.model_selection import train_test_split\n",
        "import numpy as np\n",
        "from sklearn import preprocessing\n",
        "import cv2\n",
        "import time"
      ],
      "execution_count": 0,
      "outputs": []
    },
    {
      "cell_type": "code",
      "metadata": {
        "id": "hjjUgEPuYpwT",
        "colab_type": "code",
        "colab": {}
      },
      "source": [
        "#!unzip images.zip"
      ],
      "execution_count": 0,
      "outputs": []
    },
    {
      "cell_type": "code",
      "metadata": {
        "id": "cBpuPcoDYsr7",
        "colab_type": "code",
        "outputId": "006f6f3e-96a2-4f9e-9cc9-9384e7738816",
        "colab": {
          "base_uri": "https://localhost:8080/",
          "height": 104
        }
      },
      "source": [
        "ls"
      ],
      "execution_count": 32,
      "outputs": [
        {
          "output_type": "stream",
          "text": [
            " actions.csv                        'Pong_Thu May  2 20:16:17 2019.h5'\n",
            " \u001b[0m\u001b[01;34mimages\u001b[0m/                            'Pong_Thu May  2 20:17:40 2019.h5'\n",
            " images.zip                         'Pong_Thu May  2 20:19:15 2019.h5'\n",
            "'Pong_Fri May  3 06:12:56 2019.h5'   sigmoid_cnn_pongai.ipynb\n",
            "'Pong_Fri May  3 06:13:12 2019.h5'\n"
          ],
          "name": "stdout"
        }
      ]
    },
    {
      "cell_type": "code",
      "metadata": {
        "id": "po6DJKyVbfnq",
        "colab_type": "code",
        "outputId": "b895e332-068e-4fc3-978a-a33253539039",
        "colab": {
          "base_uri": "https://localhost:8080/",
          "height": 2066
        }
      },
      "source": [
        "from tqdm import tqdm\n",
        "\n",
        "X = []\n",
        "Y = []\n",
        "\n",
        "with open ('actions.csv', 'r') as f:\n",
        "    for line in f:\n",
        "        Y.append(line.rstrip())\n",
        "\n",
        "\n",
        "all_images = []\n",
        "img_num = 0\n",
        "\n",
        "#while tqdm(img_num < 30000): #3000 denotes the total no of input images\n",
        "print(\"LOADING IMAGES! please wait...\")\n",
        "\n",
        "\n",
        "for img_num in tqdm(range(2000)):\n",
        "  img = cv2.imread('images/frame_{0}.jpg'.format(img_num), cv2.IMREAD_GRAYSCALE)\n",
        "  img = img[:, :, np.newaxis]\n",
        "  all_images.append(img)\n",
        "  img_num += 1\n",
        "        \n",
        "\n",
        "X = np.array(all_images)\n"
      ],
      "execution_count": 33,
      "outputs": [
        {
          "output_type": "stream",
          "text": [
            "\n",
            "\n",
            "  0%|          | 0/2000 [00:00<?, ?it/s]\u001b[A\u001b[A\n",
            "\n",
            "  2%|▏         | 42/2000 [00:00<00:04, 416.19it/s]\u001b[A\u001b[A"
          ],
          "name": "stderr"
        },
        {
          "output_type": "stream",
          "text": [
            "LOADING IMAGES! please wait...\n"
          ],
          "name": "stdout"
        },
        {
          "output_type": "stream",
          "text": [
            "\n",
            "\n",
            "  4%|▍         | 81/2000 [00:00<00:04, 406.15it/s]\u001b[A\u001b[A\n",
            "\n",
            "  6%|▌         | 122/2000 [00:00<00:04, 406.20it/s]\u001b[A\u001b[A\n",
            "\n",
            "  8%|▊         | 162/2000 [00:00<00:04, 404.23it/s]\u001b[A\u001b[A\n",
            "\n",
            " 10%|▉         | 198/2000 [00:00<00:04, 389.54it/s]\u001b[A\u001b[A\n",
            "\n",
            " 12%|█▏        | 240/2000 [00:00<00:04, 396.37it/s]\u001b[A\u001b[A\n",
            "\n",
            " 14%|█▍        | 279/2000 [00:00<00:04, 394.29it/s]\u001b[A\u001b[A\n",
            "\n",
            " 16%|█▌        | 320/2000 [00:00<00:04, 396.21it/s]\u001b[A\u001b[A\n",
            "\n",
            " 18%|█▊        | 359/2000 [00:00<00:04, 394.20it/s]\u001b[A\u001b[A\n",
            "\n",
            " 20%|█▉        | 398/2000 [00:01<00:04, 391.63it/s]\u001b[A\u001b[A\n",
            "\n",
            " 22%|██▏       | 440/2000 [00:01<00:03, 398.00it/s]\u001b[A\u001b[A\n",
            "\n",
            " 24%|██▍       | 480/2000 [00:01<00:03, 398.43it/s]\u001b[A\u001b[A\n",
            "\n",
            " 26%|██▌       | 521/2000 [00:01<00:03, 400.83it/s]\u001b[A\u001b[A\n",
            "\n",
            " 28%|██▊       | 561/2000 [00:01<00:03, 399.42it/s]\u001b[A\u001b[A\n",
            "\n",
            " 30%|███       | 601/2000 [00:01<00:03, 392.98it/s]\u001b[A\u001b[A\n",
            "\n",
            " 32%|███▏      | 642/2000 [00:01<00:03, 397.13it/s]\u001b[A\u001b[A\n",
            "\n",
            " 34%|███▍      | 682/2000 [00:01<00:03, 397.09it/s]\u001b[A\u001b[A\n",
            "\n",
            " 36%|███▌      | 722/2000 [00:01<00:03, 396.75it/s]\u001b[A\u001b[A\n",
            "\n",
            " 38%|███▊      | 762/2000 [00:01<00:03, 391.85it/s]\u001b[A\u001b[A\n",
            "\n",
            " 40%|████      | 802/2000 [00:02<00:03, 377.28it/s]\u001b[A\u001b[A\n",
            "\n",
            " 42%|████▏     | 840/2000 [00:02<00:03, 356.05it/s]\u001b[A\u001b[A\n",
            "\n",
            " 44%|████▍     | 876/2000 [00:02<00:03, 345.02it/s]\u001b[A\u001b[A\n",
            "\n",
            " 46%|████▌     | 911/2000 [00:02<00:03, 334.69it/s]\u001b[A\u001b[A\n",
            "\n",
            " 47%|████▋     | 945/2000 [00:02<00:03, 321.64it/s]\u001b[A\u001b[A\n",
            "\n",
            " 49%|████▉     | 978/2000 [00:02<00:03, 316.90it/s]\u001b[A\u001b[A\n",
            "\n",
            " 50%|█████     | 1010/2000 [00:02<00:03, 303.19it/s]\u001b[A\u001b[A\n",
            "\n",
            " 52%|█████▏    | 1042/2000 [00:02<00:03, 307.35it/s]\u001b[A\u001b[A\n",
            "\n",
            " 54%|█████▎    | 1073/2000 [00:02<00:03, 307.96it/s]\u001b[A\u001b[A\n",
            "\n",
            " 55%|█████▌    | 1106/2000 [00:03<00:02, 311.69it/s]\u001b[A\u001b[A\n",
            "\n",
            " 57%|█████▋    | 1139/2000 [00:03<00:02, 315.29it/s]\u001b[A\u001b[A\n",
            "\n",
            " 59%|█████▊    | 1171/2000 [00:03<00:02, 315.56it/s]\u001b[A\u001b[A\n",
            "\n",
            " 60%|██████    | 1203/2000 [00:03<00:02, 314.80it/s]\u001b[A\u001b[A\n",
            "\n",
            " 62%|██████▏   | 1235/2000 [00:03<00:02, 313.22it/s]\u001b[A\u001b[A\n",
            "\n",
            " 63%|██████▎   | 1267/2000 [00:03<00:02, 300.14it/s]\u001b[A\u001b[A\n",
            "\n",
            " 65%|██████▍   | 1298/2000 [00:03<00:02, 293.23it/s]\u001b[A\u001b[A\n",
            "\n",
            " 66%|██████▋   | 1330/2000 [00:03<00:02, 299.44it/s]\u001b[A\u001b[A\n",
            "\n",
            " 68%|██████▊   | 1363/2000 [00:03<00:02, 307.23it/s]\u001b[A\u001b[A\n",
            "\n",
            " 70%|██████▉   | 1394/2000 [00:03<00:01, 306.10it/s]\u001b[A\u001b[A\n",
            "\n",
            " 71%|███████▏  | 1426/2000 [00:04<00:01, 308.94it/s]\u001b[A\u001b[A\n",
            "\n",
            " 73%|███████▎  | 1459/2000 [00:04<00:01, 312.64it/s]\u001b[A\u001b[A\n",
            "\n",
            " 75%|███████▍  | 1491/2000 [00:04<00:01, 306.15it/s]\u001b[A\u001b[A\n",
            "\n",
            " 76%|███████▌  | 1523/2000 [00:04<00:01, 310.16it/s]\u001b[A\u001b[A\n",
            "\n",
            " 78%|███████▊  | 1556/2000 [00:04<00:01, 313.36it/s]\u001b[A\u001b[A\n",
            "\n",
            " 79%|███████▉  | 1588/2000 [00:04<00:01, 305.07it/s]\u001b[A\u001b[A\n",
            "\n",
            " 81%|████████  | 1620/2000 [00:04<00:01, 308.59it/s]\u001b[A\u001b[A\n",
            "\n",
            " 83%|████████▎ | 1652/2000 [00:04<00:01, 310.29it/s]\u001b[A\u001b[A\n",
            "\n",
            " 84%|████████▍ | 1684/2000 [00:04<00:01, 309.61it/s]\u001b[A\u001b[A\n",
            "\n",
            " 86%|████████▌ | 1715/2000 [00:05<00:00, 309.64it/s]\u001b[A\u001b[A\n",
            "\n",
            " 87%|████████▋ | 1747/2000 [00:05<00:00, 310.14it/s]\u001b[A\u001b[A\n",
            "\n",
            " 89%|████████▉ | 1779/2000 [00:05<00:00, 310.41it/s]\u001b[A\u001b[A\n",
            "\n",
            " 91%|█████████ | 1812/2000 [00:05<00:00, 314.24it/s]\u001b[A\u001b[A\n",
            "\n",
            " 92%|█████████▏| 1844/2000 [00:05<00:00, 312.41it/s]\u001b[A\u001b[A\n",
            "\n",
            " 94%|█████████▍| 1876/2000 [00:05<00:00, 313.34it/s]\u001b[A\u001b[A\n",
            "\n",
            " 95%|█████████▌| 1908/2000 [00:05<00:00, 303.64it/s]\u001b[A\u001b[A\n",
            "\n",
            " 97%|█████████▋| 1942/2000 [00:05<00:00, 312.41it/s]\u001b[A\u001b[A\n",
            "\n",
            " 99%|█████████▊| 1974/2000 [00:05<00:00, 313.35it/s]\u001b[A\u001b[A\n",
            "\n",
            "100%|██████████| 2000/2000 [00:05<00:00, 338.06it/s]\u001b[A\u001b[A"
          ],
          "name": "stderr"
        }
      ]
    },
    {
      "cell_type": "code",
      "metadata": {
        "id": "t_Y7S6dgbycr",
        "colab_type": "code",
        "colab": {
          "base_uri": "https://localhost:8080/",
          "height": 558
        },
        "outputId": "20f1f88c-b20d-4e11-f18b-e5d14ff64c46"
      },
      "source": [
        "MODEL_FIRST = 'Pong'\n",
        "MODEL_END = time.asctime( time.localtime(time.time()))\n",
        "MODEL_NAME = '{}_{}.h5'.format(MODEL_FIRST,MODEL_END)\n",
        "#MODEL_NAME\n",
        "\n",
        "# split into test and train set\n",
        "x_train, x_test, y_train, y_test = train_test_split(X, Y, test_size=.02, random_state=5)\n",
        "\n",
        "# convert class vectors to binary class matricies for use in catagorical_crossentropy loss below\n",
        "# number of action classifications\n",
        "classifications = 3\n",
        "y_train = keras.utils.to_categorical(y_train, classifications)\n",
        "y_test = keras.utils.to_categorical(y_test, classifications)\n",
        "\n",
        "#reference:-https://github.com/keras-team/keras/blob/master/examples/cifar10_cnn.py\n",
        "# CNN model\n",
        "model = Sequential()\n",
        "model.add(Conv2D(32, (3, 3), padding='same',\n",
        "                 input_shape=x_train.shape[1:]))\n",
        "model.add(Activation('relu'))\n",
        "model.add(Conv2D(32, (3, 3)))\n",
        "model.add(Activation('relu'))\n",
        "model.add(MaxPooling2D(pool_size=(2, 2)))\n",
        "model.add(Dropout(0.25))\n",
        "\n",
        "model.add(Conv2D(64, (3, 3), padding='same'))\n",
        "model.add(Activation('relu'))\n",
        "model.add(Conv2D(64, (3, 3)))\n",
        "model.add(Activation('relu'))\n",
        "model.add(MaxPooling2D(pool_size=(2, 2)))\n",
        "model.add(Dropout(0.25))\n",
        "\n",
        "model.add(Flatten())\n",
        "model.add(Dense(512))\n",
        "model.add(Activation('relu'))\n",
        "model.add(Dropout(0.5))\n",
        "model.add(Dense(3))\n",
        "model.add(Activation('sigmoid'))\n",
        "\n",
        "# initiate RMSprop optimizer\n",
        "opt = keras.optimizers.rmsprop(lr=0.0001, decay=1e-6)\n",
        "\n",
        "# Let's train the model using RMSprop\n",
        "model.compile(loss='categorical_crossentropy',\n",
        "              optimizer=opt,\n",
        "              metrics=['accuracy'])\n",
        "\n",
        "x_train = x_train.astype('float32')\n",
        "x_test = x_test.astype('float32')\n",
        "x_train /= 255\n",
        "x_test /= 255\n",
        "\n",
        "history = model.fit(x_train, y_train,\n",
        "              batch_size=32,\n",
        "              epochs=10,\n",
        "              validation_data=(x_test, y_test),\n",
        "              shuffle=True)\n",
        "#save weights post training\n",
        "\n",
        "model.save(MODEL_NAME)\n"
      ],
      "execution_count": 24,
      "outputs": [
        {
          "output_type": "stream",
          "text": [
            "WARNING:tensorflow:From /usr/local/lib/python3.6/dist-packages/tensorflow/python/framework/op_def_library.py:263: colocate_with (from tensorflow.python.framework.ops) is deprecated and will be removed in a future version.\n",
            "Instructions for updating:\n",
            "Colocations handled automatically by placer.\n",
            "WARNING:tensorflow:From /usr/local/lib/python3.6/dist-packages/keras/backend/tensorflow_backend.py:3445: calling dropout (from tensorflow.python.ops.nn_ops) with keep_prob is deprecated and will be removed in a future version.\n",
            "Instructions for updating:\n",
            "Please use `rate` instead of `keep_prob`. Rate should be set to `rate = 1 - keep_prob`.\n",
            "WARNING:tensorflow:From /usr/local/lib/python3.6/dist-packages/tensorflow/python/ops/math_ops.py:3066: to_int32 (from tensorflow.python.ops.math_ops) is deprecated and will be removed in a future version.\n",
            "Instructions for updating:\n",
            "Use tf.cast instead.\n",
            "Train on 1960 samples, validate on 40 samples\n",
            "Epoch 1/10\n",
            "1960/1960 [==============================] - 7s 3ms/step - loss: 0.7116 - acc: 0.5923 - val_loss: 0.5394 - val_acc: 0.7500\n",
            "Epoch 2/10\n",
            "1960/1960 [==============================] - 1s 475us/step - loss: 0.5818 - acc: 0.6760 - val_loss: 0.4856 - val_acc: 0.8250\n",
            "Epoch 3/10\n",
            "1960/1960 [==============================] - 1s 475us/step - loss: 0.5030 - acc: 0.7684 - val_loss: 0.3633 - val_acc: 0.8500\n",
            "Epoch 4/10\n",
            "1960/1960 [==============================] - 1s 473us/step - loss: 0.4564 - acc: 0.7954 - val_loss: 0.3468 - val_acc: 0.8750\n",
            "Epoch 5/10\n",
            "1960/1960 [==============================] - 1s 469us/step - loss: 0.4303 - acc: 0.8184 - val_loss: 0.3505 - val_acc: 0.8500\n",
            "Epoch 6/10\n",
            "1960/1960 [==============================] - 1s 474us/step - loss: 0.4060 - acc: 0.8184 - val_loss: 0.3419 - val_acc: 0.8750\n",
            "Epoch 7/10\n",
            "1960/1960 [==============================] - 1s 471us/step - loss: 0.3932 - acc: 0.8311 - val_loss: 0.3446 - val_acc: 0.9000\n",
            "Epoch 8/10\n",
            "1960/1960 [==============================] - 1s 478us/step - loss: 0.3754 - acc: 0.8439 - val_loss: 0.3215 - val_acc: 0.8500\n",
            "Epoch 9/10\n",
            "1960/1960 [==============================] - 1s 467us/step - loss: 0.3598 - acc: 0.8429 - val_loss: 0.3175 - val_acc: 0.8750\n",
            "Epoch 10/10\n",
            "1960/1960 [==============================] - 1s 472us/step - loss: 0.3565 - acc: 0.8536 - val_loss: 0.3021 - val_acc: 0.9000\n"
          ],
          "name": "stdout"
        }
      ]
    },
    {
      "cell_type": "code",
      "metadata": {
        "id": "sNUnJoiccAuY",
        "colab_type": "code",
        "colab": {
          "base_uri": "https://localhost:8080/",
          "height": 590
        },
        "outputId": "de2ad968-9f3d-46e3-9038-fff75b61ac88"
      },
      "source": [
        "import matplotlib.pyplot as plt\n",
        "print(history.history.keys())\n",
        "# summarize history for accuracy\n",
        "plt.plot(history.history['acc'])\n",
        "plt.plot(history.history['val_acc'])\n",
        "plt.title('model accuracy')\n",
        "plt.ylabel('accuracy')\n",
        "plt.xlabel('epoch')\n",
        "plt.legend(['train', 'test'], loc='upper left')\n",
        "plt.show()\n",
        "# summarize history for loss\n",
        "plt.plot(history.history['loss'])\n",
        "plt.plot(history.history['val_loss'])\n",
        "plt.title('model loss')\n",
        "plt.ylabel('loss')\n",
        "plt.xlabel('epoch')\n",
        "plt.legend(['train', 'test'], loc='upper left')\n",
        "plt.show()\n",
        "#resnet , vgg-16"
      ],
      "execution_count": 25,
      "outputs": [
        {
          "output_type": "stream",
          "text": [
            "dict_keys(['val_loss', 'val_acc', 'loss', 'acc'])\n"
          ],
          "name": "stdout"
        },
        {
          "output_type": "display_data",
          "data": {
            "image/png": "[encoded data removed]",
            "text/plain": [
              "<Figure size 432x288 with 1 Axes>"
            ]
          },
          "metadata": {
            "tags": []
          }
        },
        {
          "output_type": "display_data",
          "data": {
            "image/png": "[encoded data removed]",
            "text/plain": [
              "<Figure size 432x288 with 1 Axes>"
            ]
          },
          "metadata": {
            "tags": []
          }
        }
      ]
    },
    {
      "cell_type": "code",
      "metadata": {
        "id": "qZ6ETkg7cM08",
        "colab_type": "code",
        "colab": {
          "base_uri": "https://localhost:8080/",
          "height": 1076
        },
        "outputId": "d649de90-53d2-47d1-9e61-0592ebe35804"
      },
      "source": [
        "\n",
        "from keras import optimizers\n",
        "\n",
        "\n",
        "MODEL_FIRST = 'Pong'\n",
        "MODEL_END = time.asctime( time.localtime(time.time()))\n",
        "MODEL_NAME = '{}_{}.h5'.format(MODEL_FIRST,MODEL_END)\n",
        "#MODEL_NAME\n",
        "\n",
        "# split into test and train set\n",
        "x_train, x_test, y_train, y_test = train_test_split(X, Y, test_size=.2, random_state=5)\n",
        "\n",
        "# convert class vectors to binary class matricies for use in catagorical_crossentropy loss below\n",
        "# number of action classifications\n",
        "classifications = 3\n",
        "y_train = keras.utils.to_categorical(y_train, classifications)\n",
        "y_test = keras.utils.to_categorical(y_test, classifications)\n",
        "\n",
        "#reference:-https://github.com/keras-team/keras/blob/master/examples/cifar10_cnn.py\n",
        "# CNN model\n",
        "\n",
        "model = Sequential()\n",
        "model.add(Conv2D(32, (3, 3), padding='same',\n",
        "                 input_shape=x_train.shape[1:]))\n",
        "model.add(Activation('relu'))\n",
        "model.add(Conv2D(32, (3, 3)))\n",
        "model.add(Activation('relu'))\n",
        "model.add(MaxPooling2D(pool_size=(2, 2)))\n",
        "model.add(Dropout(0.25))\n",
        "\n",
        "model.add(Conv2D(64, (3, 3), padding='same'))\n",
        "model.add(Activation('relu'))\n",
        "model.add(Conv2D(64, (3, 3)))\n",
        "model.add(Activation('relu'))\n",
        "model.add(MaxPooling2D(pool_size=(2, 2)))\n",
        "model.add(Dropout(0.25))\n",
        "\n",
        "model.add(Flatten())\n",
        "model.add(Dense(512))\n",
        "model.add(Activation('relu'))\n",
        "model.add(Dropout(0.5))\n",
        "model.add(Dense(3))\n",
        "model.add(Activation('sigmoid'))\n",
        "\n",
        "# initiate RMSprop optimizer\n",
        "sgd = optimizers.SGD(lr=0.01, decay=1e-6, momentum=0.9, nesterov=True)\n",
        "\n",
        "# Let's train the model using RMSprop\n",
        "model.compile(loss='mean_squared_error',\n",
        "              optimizer=sgd,\n",
        "              metrics=['accuracy'])\n",
        "\n",
        "x_train = x_train.astype('float32')\n",
        "x_test = x_test.astype('float32')\n",
        "x_train /= 255\n",
        "x_test /= 255\n",
        "\n",
        "history = model.fit(x_train, y_train,\n",
        "              batch_size=8,\n",
        "              epochs=30,\n",
        "              validation_data=(x_test, y_test),\n",
        "              shuffle=True)\n",
        "#save weights post training\n",
        "\n",
        "model.save(MODEL_NAME)"
      ],
      "execution_count": 35,
      "outputs": [
        {
          "output_type": "stream",
          "text": [
            "Train on 1600 samples, validate on 400 samples\n",
            "Epoch 1/30\n",
            "1600/1600 [==============================] - 2s 1ms/step - loss: 0.1821 - acc: 0.4944 - val_loss: 0.1677 - val_acc: 0.5125\n",
            "Epoch 2/30\n",
            "1600/1600 [==============================] - 1s 900us/step - loss: 0.1701 - acc: 0.4938 - val_loss: 0.1676 - val_acc: 0.5125\n",
            "Epoch 3/30\n",
            "1600/1600 [==============================] - 1s 902us/step - loss: 0.1677 - acc: 0.5162 - val_loss: 0.1632 - val_acc: 0.4875\n",
            "Epoch 4/30\n",
            "1600/1600 [==============================] - 1s 910us/step - loss: 0.1587 - acc: 0.6019 - val_loss: 0.1338 - val_acc: 0.7100\n",
            "Epoch 5/30\n",
            "1600/1600 [==============================] - 1s 896us/step - loss: 0.1470 - acc: 0.6644 - val_loss: 0.1236 - val_acc: 0.7325\n",
            "Epoch 6/30\n",
            "1600/1600 [==============================] - 1s 923us/step - loss: 0.1425 - acc: 0.6606 - val_loss: 0.1184 - val_acc: 0.7475\n",
            "Epoch 7/30\n",
            "1600/1600 [==============================] - 1s 904us/step - loss: 0.1338 - acc: 0.6950 - val_loss: 0.1048 - val_acc: 0.8125\n",
            "Epoch 8/30\n",
            "1600/1600 [==============================] - 1s 924us/step - loss: 0.1189 - acc: 0.7462 - val_loss: 0.0940 - val_acc: 0.7975\n",
            "Epoch 9/30\n",
            "1600/1600 [==============================] - 2s 954us/step - loss: 0.1007 - acc: 0.7988 - val_loss: 0.0801 - val_acc: 0.8450\n",
            "Epoch 10/30\n",
            "1600/1600 [==============================] - 2s 958us/step - loss: 0.0943 - acc: 0.8006 - val_loss: 0.0761 - val_acc: 0.8425\n",
            "Epoch 11/30\n",
            "1600/1600 [==============================] - 2s 952us/step - loss: 0.0825 - acc: 0.8313 - val_loss: 0.0731 - val_acc: 0.8600\n",
            "Epoch 12/30\n",
            "1600/1600 [==============================] - 2s 971us/step - loss: 0.0773 - acc: 0.8438 - val_loss: 0.0645 - val_acc: 0.8775\n",
            "Epoch 13/30\n",
            "1600/1600 [==============================] - 2s 952us/step - loss: 0.0706 - acc: 0.8525 - val_loss: 0.0607 - val_acc: 0.8800\n",
            "Epoch 14/30\n",
            "1600/1600 [==============================] - 2s 952us/step - loss: 0.0691 - acc: 0.8613 - val_loss: 0.0603 - val_acc: 0.8850\n",
            "Epoch 15/30\n",
            "1600/1600 [==============================] - 1s 916us/step - loss: 0.0649 - acc: 0.8731 - val_loss: 0.0535 - val_acc: 0.9025\n",
            "Epoch 16/30\n",
            "1600/1600 [==============================] - 1s 917us/step - loss: 0.0600 - acc: 0.8788 - val_loss: 0.0571 - val_acc: 0.9000\n",
            "Epoch 17/30\n",
            "1600/1600 [==============================] - 1s 912us/step - loss: 0.0551 - acc: 0.8956 - val_loss: 0.0562 - val_acc: 0.8775\n",
            "Epoch 18/30\n",
            "1600/1600 [==============================] - 1s 908us/step - loss: 0.0529 - acc: 0.9006 - val_loss: 0.0532 - val_acc: 0.8875\n",
            "Epoch 19/30\n",
            "1600/1600 [==============================] - 1s 913us/step - loss: 0.0523 - acc: 0.8956 - val_loss: 0.0543 - val_acc: 0.8875\n",
            "Epoch 20/30\n",
            "1600/1600 [==============================] - 1s 916us/step - loss: 0.0530 - acc: 0.9006 - val_loss: 0.0536 - val_acc: 0.8900\n",
            "Epoch 21/30\n",
            "1600/1600 [==============================] - 1s 906us/step - loss: 0.0508 - acc: 0.8950 - val_loss: 0.0590 - val_acc: 0.8750\n",
            "Epoch 22/30\n",
            "1600/1600 [==============================] - 1s 915us/step - loss: 0.0491 - acc: 0.9006 - val_loss: 0.0559 - val_acc: 0.8875\n",
            "Epoch 23/30\n",
            "1600/1600 [==============================] - 1s 904us/step - loss: 0.0483 - acc: 0.9031 - val_loss: 0.0508 - val_acc: 0.8925\n",
            "Epoch 24/30\n",
            "1600/1600 [==============================] - 1s 916us/step - loss: 0.0457 - acc: 0.9137 - val_loss: 0.0542 - val_acc: 0.8950\n",
            "Epoch 25/30\n",
            "1600/1600 [==============================] - 1s 906us/step - loss: 0.0465 - acc: 0.9025 - val_loss: 0.0544 - val_acc: 0.8850\n",
            "Epoch 26/30\n",
            "1600/1600 [==============================] - 1s 915us/step - loss: 0.0459 - acc: 0.9094 - val_loss: 0.0533 - val_acc: 0.8875\n",
            "Epoch 27/30\n",
            "1600/1600 [==============================] - 1s 911us/step - loss: 0.0437 - acc: 0.9069 - val_loss: 0.0548 - val_acc: 0.8900\n",
            "Epoch 28/30\n",
            "1600/1600 [==============================] - 1s 922us/step - loss: 0.0452 - acc: 0.9087 - val_loss: 0.0509 - val_acc: 0.8900\n",
            "Epoch 29/30\n",
            "1600/1600 [==============================] - 1s 917us/step - loss: 0.0392 - acc: 0.9256 - val_loss: 0.0577 - val_acc: 0.8750\n",
            "Epoch 30/30\n",
            "1600/1600 [==============================] - 1s 911us/step - loss: 0.0422 - acc: 0.9163 - val_loss: 0.0558 - val_acc: 0.8825\n"
          ],
          "name": "stdout"
        }
      ]
    },
    {
      "cell_type": "code",
      "metadata": {
        "id": "cqM7bBgoSukW",
        "colab_type": "code",
        "colab": {
          "base_uri": "https://localhost:8080/",
          "height": 590
        },
        "outputId": "06e03acf-daa5-46ce-9a5f-cc0ea5195972"
      },
      "source": [
        "import matplotlib.pyplot as plt\n",
        "print(history.history.keys())\n",
        "# summarize history for accuracy\n",
        "plt.plot(history.history['acc'])\n",
        "plt.plot(history.history['val_acc'])\n",
        "plt.title('model accuracy')\n",
        "plt.ylabel('accuracy')\n",
        "plt.xlabel('epoch')\n",
        "plt.legend(['train', 'test'], loc='upper left')\n",
        "plt.show()\n",
        "# summarize history for loss\n",
        "plt.plot(history.history['loss'])\n",
        "plt.plot(history.history['val_loss'])\n",
        "plt.title('model loss')\n",
        "plt.ylabel('loss')\n",
        "plt.xlabel('epoch')\n",
        "plt.legend(['train', 'test'], loc='upper left')\n",
        "plt.show()\n",
        "#resnet , vgg-16"
      ],
      "execution_count": 36,
      "outputs": [
        {
          "output_type": "stream",
          "text": [
            "dict_keys(['val_loss', 'val_acc', 'loss', 'acc'])\n"
          ],
          "name": "stdout"
        },
        {
          "output_type": "display_data",
          "data": {
            "image/png": "[encoded data removed]",
            "text/plain": [
              "<Figure size 432x288 with 1 Axes>"
            ]
          },
          "metadata": {
            "tags": []
          }
        },
        {
          "output_type": "display_data",
          "data": {
            "image/png": "[encoded data removed]",
            "text/plain": [
              "<Figure size 432x288 with 1 Axes>"
            ]
          },
          "metadata": {
            "tags": []
          }
        }
      ]
    },
    {
      "cell_type": "code",
      "metadata": {
        "id": "3X7F9FsuVK7J",
        "colab_type": "code",
        "colab": {
          "base_uri": "https://localhost:8080/",
          "height": 34
        },
        "outputId": "45f7ee78-965e-4407-b5d7-7c6d7276eaca"
      },
      "source": [
        "print(MODEL_NAME)"
      ],
      "execution_count": 37,
      "outputs": [
        {
          "output_type": "stream",
          "text": [
            "Pong_Fri May  3 06:17:50 2019.h5\n"
          ],
          "name": "stdout"
        }
      ]
    },
    {
      "cell_type": "code",
      "metadata": {
        "id": "6Jft8w0FWV7X",
        "colab_type": "code",
        "colab": {}
      },
      "source": [
        ""
      ],
      "execution_count": 0,
      "outputs": []
    }
  ]
}